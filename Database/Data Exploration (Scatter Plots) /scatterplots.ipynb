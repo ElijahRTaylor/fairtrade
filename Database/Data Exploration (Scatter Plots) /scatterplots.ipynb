{
 "cells": [
  {
   "cell_type": "code",
   "execution_count": 1,
   "id": "7a6962ba",
   "metadata": {},
   "outputs": [],
   "source": [
    "\n",
    "import numpy as np\n",
    "import matplotlib.pyplot as plt\n",
    "import pandas as pd\n"
   ]
  },
  {
   "cell_type": "code",
   "execution_count": 2,
   "id": "8d57d57f",
   "metadata": {
    "scrolled": true
   },
   "outputs": [
    {
     "data": {
      "text/html": [
       "<div>\n",
       "<style scoped>\n",
       "    .dataframe tbody tr th:only-of-type {\n",
       "        vertical-align: middle;\n",
       "    }\n",
       "\n",
       "    .dataframe tbody tr th {\n",
       "        vertical-align: top;\n",
       "    }\n",
       "\n",
       "    .dataframe thead th {\n",
       "        text-align: right;\n",
       "    }\n",
       "</style>\n",
       "<table border=\"1\" class=\"dataframe\">\n",
       "  <thead>\n",
       "    <tr style=\"text-align: right;\">\n",
       "      <th></th>\n",
       "      <th>Response ID</th>\n",
       "      <th>gender_core</th>\n",
       "      <th>age_core</th>\n",
       "      <th>entity_tenure - Months</th>\n",
       "      <th>conditions_rate_core</th>\n",
       "      <th>safety_core</th>\n",
       "      <th>pressure_to_work_core</th>\n",
       "      <th>factory_recommend_tf_core</th>\n",
       "    </tr>\n",
       "  </thead>\n",
       "  <tbody>\n",
       "    <tr>\n",
       "      <th>0</th>\n",
       "      <td>R_1NsRph9Oqxl6CnG</td>\n",
       "      <td>0</td>\n",
       "      <td>30</td>\n",
       "      <td>132</td>\n",
       "      <td>4.0</td>\n",
       "      <td>5.0</td>\n",
       "      <td>1.0</td>\n",
       "      <td>1.0</td>\n",
       "    </tr>\n",
       "    <tr>\n",
       "      <th>1</th>\n",
       "      <td>R_2BlpeLG3DymUC2o</td>\n",
       "      <td>1</td>\n",
       "      <td>30</td>\n",
       "      <td>108</td>\n",
       "      <td>3.0</td>\n",
       "      <td>5.0</td>\n",
       "      <td>1.0</td>\n",
       "      <td>1.0</td>\n",
       "    </tr>\n",
       "    <tr>\n",
       "      <th>2</th>\n",
       "      <td>R_3WMv7jb7gBKEm2t</td>\n",
       "      <td>0</td>\n",
       "      <td>24</td>\n",
       "      <td>67</td>\n",
       "      <td>4.0</td>\n",
       "      <td>5.0</td>\n",
       "      <td>1.0</td>\n",
       "      <td>1.0</td>\n",
       "    </tr>\n",
       "    <tr>\n",
       "      <th>3</th>\n",
       "      <td>R_2SBT3CXWOyuor1k</td>\n",
       "      <td>0</td>\n",
       "      <td>58</td>\n",
       "      <td>79</td>\n",
       "      <td>4.0</td>\n",
       "      <td>5.0</td>\n",
       "      <td>1.0</td>\n",
       "      <td>1.0</td>\n",
       "    </tr>\n",
       "    <tr>\n",
       "      <th>4</th>\n",
       "      <td>R_OBEgl4lS6LpSkDL</td>\n",
       "      <td>0</td>\n",
       "      <td>38</td>\n",
       "      <td>108</td>\n",
       "      <td>3.0</td>\n",
       "      <td>5.0</td>\n",
       "      <td>1.0</td>\n",
       "      <td>1.0</td>\n",
       "    </tr>\n",
       "  </tbody>\n",
       "</table>\n",
       "</div>"
      ],
      "text/plain": [
       "         Response ID gender_core  age_core  entity_tenure - Months  \\\n",
       "0  R_1NsRph9Oqxl6CnG           0        30                     132   \n",
       "1  R_2BlpeLG3DymUC2o           1        30                     108   \n",
       "2  R_3WMv7jb7gBKEm2t           0        24                      67   \n",
       "3  R_2SBT3CXWOyuor1k           0        58                      79   \n",
       "4  R_OBEgl4lS6LpSkDL           0        38                     108   \n",
       "\n",
       "   conditions_rate_core  safety_core  pressure_to_work_core  \\\n",
       "0                   4.0          5.0                    1.0   \n",
       "1                   3.0          5.0                    1.0   \n",
       "2                   4.0          5.0                    1.0   \n",
       "3                   4.0          5.0                    1.0   \n",
       "4                   3.0          5.0                    1.0   \n",
       "\n",
       "   factory_recommend_tf_core  \n",
       "0                        1.0  \n",
       "1                        1.0  \n",
       "2                        1.0  \n",
       "3                        1.0  \n",
       "4                        1.0  "
      ]
     },
     "execution_count": 2,
     "metadata": {},
     "output_type": "execute_result"
    }
   ],
   "source": [
    "#Reading the csv into a dataframe\n",
    "df  = pd.read_csv(\"Resources/fairtrade_scatter.csv\")\n",
    "scatter_df=pd.DataFrame(data=df)\n",
    "scatter_df.head()"
   ]
  },
  {
   "cell_type": "code",
   "execution_count": 3,
   "id": "d31fca13",
   "metadata": {},
   "outputs": [
    {
     "data": {
      "text/plain": [
       "Response ID                   object\n",
       "gender_core                   object\n",
       "age_core                       int64\n",
       "entity_tenure - Months         int64\n",
       "conditions_rate_core         float64\n",
       "safety_core                  float64\n",
       "pressure_to_work_core        float64\n",
       "factory_recommend_tf_core    float64\n",
       "dtype: object"
      ]
     },
     "execution_count": 3,
     "metadata": {},
     "output_type": "execute_result"
    }
   ],
   "source": [
    "#checking the data types to see which ones need to be changed to integers\n",
    "scatter_df.dtypes"
   ]
  },
  {
   "cell_type": "code",
   "execution_count": 4,
   "id": "19d3747a",
   "metadata": {},
   "outputs": [
    {
     "data": {
      "text/plain": [
       "Response ID                    0\n",
       "gender_core                    5\n",
       "age_core                       0\n",
       "entity_tenure - Months         0\n",
       "conditions_rate_core          16\n",
       "safety_core                   16\n",
       "pressure_to_work_core        350\n",
       "factory_recommend_tf_core    316\n",
       "dtype: int64"
      ]
     },
     "execution_count": 4,
     "metadata": {},
     "output_type": "execute_result"
    }
   ],
   "source": [
    "# Identify the null rows, to remove them before changing dtypes\n",
    "scatter_df.isnull().sum()"
   ]
  },
  {
   "cell_type": "code",
   "execution_count": 5,
   "id": "1899b794",
   "metadata": {},
   "outputs": [],
   "source": [
    "#removing all null values form these columns\n",
    "scatter_df = scatter_df.dropna(subset=['conditions_rate_core', 'safety_core', 'pressure_to_work_core', 'factory_recommend_tf_core'])\n",
    "                          "
   ]
  },
  {
   "cell_type": "code",
   "execution_count": 6,
   "id": "6247fffb",
   "metadata": {},
   "outputs": [
    {
     "data": {
      "text/plain": [
       "Response ID                  0\n",
       "gender_core                  5\n",
       "age_core                     0\n",
       "entity_tenure - Months       0\n",
       "conditions_rate_core         0\n",
       "safety_core                  0\n",
       "pressure_to_work_core        0\n",
       "factory_recommend_tf_core    0\n",
       "dtype: int64"
      ]
     },
     "execution_count": 6,
     "metadata": {},
     "output_type": "execute_result"
    }
   ],
   "source": [
    "# checking if the null rows have been removed\n",
    "scatter_df.isnull().sum()"
   ]
  },
  {
   "cell_type": "code",
   "execution_count": 7,
   "id": "2047db9d",
   "metadata": {
    "scrolled": true
   },
   "outputs": [],
   "source": [
    "#changing data types to integers\n",
    "scatter_df['factory_recommend_tf_core'] = scatter_df['factory_recommend_tf_core'].astype(int)\n",
    "scatter_df['conditions_rate_core'] = scatter_df['conditions_rate_core'].astype(int)\n",
    "scatter_df['safety_core'] = scatter_df['safety_core'].astype(int)\n",
    "scatter_df['pressure_to_work_core'] = scatter_df['pressure_to_work_core'].astype(int)"
   ]
  },
  {
   "cell_type": "code",
   "execution_count": 8,
   "id": "9fdba2a5",
   "metadata": {},
   "outputs": [
    {
     "data": {
      "text/plain": [
       "Response ID                  object\n",
       "gender_core                  object\n",
       "age_core                      int64\n",
       "entity_tenure - Months        int64\n",
       "conditions_rate_core          int64\n",
       "safety_core                   int64\n",
       "pressure_to_work_core         int64\n",
       "factory_recommend_tf_core     int64\n",
       "dtype: object"
      ]
     },
     "execution_count": 8,
     "metadata": {},
     "output_type": "execute_result"
    }
   ],
   "source": [
    "#Checking the data types\n",
    "scatter_df.dtypes"
   ]
  },
  {
   "cell_type": "code",
   "execution_count": 12,
   "id": "8f476dae",
   "metadata": {},
   "outputs": [
    {
     "data": {
      "text/plain": [
       "<AxesSubplot:xlabel='age_core', ylabel='factory_recommend_tf_core'>"
      ]
     },
     "execution_count": 12,
     "metadata": {},
     "output_type": "execute_result"
    },
    {
     "data": {
      "image/png": "[encoded data removed]",
      "text/plain": [
       "<Figure size 432x288 with 1 Axes>"
      ]
     },
     "metadata": {
      "needs_background": "light"
     },
     "output_type": "display_data"
    }
   ],
   "source": [
    "#Plotting one atribute at a time against factory_recommend_tf_core to see how the data looks\n",
    "df.plot(kind='scatter',x='age_core',y='factory_recommend_tf_core', s='age_core') # scatter plot"
   ]
  },
  {
   "cell_type": "code",
   "execution_count": 15,
   "id": "9b5e4916",
   "metadata": {},
   "outputs": [
    {
     "data": {
      "text/plain": [
       "<AxesSubplot:xlabel='entity_tenure - Months', ylabel='factory_recommend_tf_core'>"
      ]
     },
     "execution_count": 15,
     "metadata": {},
     "output_type": "execute_result"
    },
    {
     "data": {
      "image/png": "[encoded data removed]",
      "text/plain": [
       "<Figure size 432x288 with 1 Axes>"
      ]
     },
     "metadata": {
      "needs_background": "light"
     },
     "output_type": "display_data"
    }
   ],
   "source": [
    "#Plotting one atribute at a time against factory_recommend_tf_core to see how the data looks\n",
    "df.plot(kind='scatter',x='entity_tenure - Months',y='factory_recommend_tf_core', s='entity_tenure - Months') # scatter plot"
   ]
  },
  {
   "cell_type": "code",
   "execution_count": 17,
   "id": "a9b53b4a",
   "metadata": {},
   "outputs": [
    {
     "data": {
      "text/plain": [
       "<AxesSubplot:xlabel='conditions_rate_core', ylabel='factory_recommend_tf_core'>"
      ]
     },
     "execution_count": 17,
     "metadata": {},
     "output_type": "execute_result"
    },
    {
     "data": {
      "image/png": "[encoded data removed]",
      "text/plain": [
       "<Figure size 432x288 with 1 Axes>"
      ]
     },
     "metadata": {
      "needs_background": "light"
     },
     "output_type": "display_data"
    }
   ],
   "source": [
    "#Plotting one atribute at a time against factory_recommend_tf_core to see how the data looks\n",
    "df.plot(kind='scatter',x='conditions_rate_core',y='factory_recommend_tf_core', s='conditions_rate_core') # scatter plot"
   ]
  },
  {
   "cell_type": "code",
   "execution_count": 20,
   "id": "8a36ca96",
   "metadata": {},
   "outputs": [
    {
     "data": {
      "text/plain": [
       "<AxesSubplot:xlabel='safety_core', ylabel='factory_recommend_tf_core'>"
      ]
     },
     "execution_count": 20,
     "metadata": {},
     "output_type": "execute_result"
    },
    {
     "data": {
      "image/png": "[encoded data removed]",
      "text/plain": [
       "<Figure size 432x288 with 1 Axes>"
      ]
     },
     "metadata": {
      "needs_background": "light"
     },
     "output_type": "display_data"
    }
   ],
   "source": [
    "#Plotting one atribute at a time against factory_recommend_tf_core to see how the data looks\n",
    "df.plot(kind='scatter',x='safety_core',y='factory_recommend_tf_core', s='safety_core') # scatter plot"
   ]
  },
  {
   "cell_type": "code",
   "execution_count": 21,
   "id": "4ad63291",
   "metadata": {},
   "outputs": [
    {
     "data": {
      "text/plain": [
       "<AxesSubplot:xlabel='pressure_to_work_core', ylabel='factory_recommend_tf_core'>"
      ]
     },
     "execution_count": 21,
     "metadata": {},
     "output_type": "execute_result"
    },
    {
     "data": {
      "image/png": "[encoded data removed]",
      "text/plain": [
       "<Figure size 432x288 with 1 Axes>"
      ]
     },
     "metadata": {
      "needs_background": "light"
     },
     "output_type": "display_data"
    }
   ],
   "source": [
    "#Plotting one atribute at a time against factory_recommend_tf_core to see how the data looks\n",
    "df.plot(kind='scatter',x='pressure_to_work_core',y='factory_recommend_tf_core', s='pressure_to_work_core') # scatter plot"
   ]
  },
  {
   "cell_type": "code",
   "execution_count": null,
   "id": "ccd6e0e8",
   "metadata": {},
   "outputs": [],
   "source": []
  }
 ],
 "metadata": {
  "kernelspec": {
   "display_name": "myenviro",
   "language": "python",
   "name": "myenviro"
  },
  "language_info": {
   "codemirror_mode": {
    "name": "ipython",
    "version": 3
   },
   "file_extension": ".py",
   "mimetype": "text/x-python",
   "name": "python",
   "nbconvert_exporter": "python",
   "pygments_lexer": "ipython3",
   "version": "3.9.7"
  }
 },
 "nbformat": 4,
 "nbformat_minor": 5
}
