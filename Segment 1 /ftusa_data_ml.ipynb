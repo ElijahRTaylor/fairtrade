{
 "cells": [
  {
   "cell_type": "code",
   "execution_count": 9,
   "id": "fe4f8c8f",
   "metadata": {},
   "outputs": [],
   "source": [
    "# Initial imports.\n",
    "import pandas as pd\n",
    "from pathlib import Path\n",
    "from sklearn.ensemble import RandomForestClassifier\n",
    "from sklearn.preprocessing import StandardScaler\n",
    "from sklearn.model_selection import train_test_split\n",
    "from sklearn.metrics import confusion_matrix, accuracy_score, classification_report\n"
   ]
  },
  {
   "cell_type": "code",
   "execution_count": 10,
   "id": "da2eb1fc",
   "metadata": {},
   "outputs": [
    {
     "data": {
      "text/html": [
       "<div>\n",
       "<style scoped>\n",
       "    .dataframe tbody tr th:only-of-type {\n",
       "        vertical-align: middle;\n",
       "    }\n",
       "\n",
       "    .dataframe tbody tr th {\n",
       "        vertical-align: top;\n",
       "    }\n",
       "\n",
       "    .dataframe thead th {\n",
       "        text-align: right;\n",
       "    }\n",
       "</style>\n",
       "<table border=\"1\" class=\"dataframe\">\n",
       "  <thead>\n",
       "    <tr style=\"text-align: right;\">\n",
       "      <th></th>\n",
       "      <th>gender_core</th>\n",
       "      <th>age_core</th>\n",
       "      <th>understand_contract</th>\n",
       "      <th>understand_contract.1</th>\n",
       "      <th>total_tenure_months</th>\n",
       "      <th>workplace_satis_core</th>\n",
       "      <th>living_wage_tf_core</th>\n",
       "      <th>conditions_rate_core</th>\n",
       "      <th>safety_core</th>\n",
       "      <th>accident_last_year</th>\n",
       "      <th>covid_safety_measures_core</th>\n",
       "      <th>return_next_season_core</th>\n",
       "      <th>pressure_to_work_core</th>\n",
       "      <th>factory_recommend_tf_core</th>\n",
       "    </tr>\n",
       "  </thead>\n",
       "  <tbody>\n",
       "    <tr>\n",
       "      <th>0</th>\n",
       "      <td>0</td>\n",
       "      <td>30</td>\n",
       "      <td>1</td>\n",
       "      <td>0</td>\n",
       "      <td>132</td>\n",
       "      <td>3</td>\n",
       "      <td>0</td>\n",
       "      <td>3</td>\n",
       "      <td>4</td>\n",
       "      <td>0</td>\n",
       "      <td>4</td>\n",
       "      <td>1</td>\n",
       "      <td>0</td>\n",
       "      <td>1</td>\n",
       "    </tr>\n",
       "    <tr>\n",
       "      <th>1</th>\n",
       "      <td>1</td>\n",
       "      <td>30</td>\n",
       "      <td>1</td>\n",
       "      <td>0</td>\n",
       "      <td>108</td>\n",
       "      <td>3</td>\n",
       "      <td>0</td>\n",
       "      <td>2</td>\n",
       "      <td>4</td>\n",
       "      <td>0</td>\n",
       "      <td>4</td>\n",
       "      <td>1</td>\n",
       "      <td>0</td>\n",
       "      <td>1</td>\n",
       "    </tr>\n",
       "    <tr>\n",
       "      <th>2</th>\n",
       "      <td>0</td>\n",
       "      <td>24</td>\n",
       "      <td>1</td>\n",
       "      <td>0</td>\n",
       "      <td>67</td>\n",
       "      <td>4</td>\n",
       "      <td>1</td>\n",
       "      <td>3</td>\n",
       "      <td>4</td>\n",
       "      <td>0</td>\n",
       "      <td>4</td>\n",
       "      <td>1</td>\n",
       "      <td>0</td>\n",
       "      <td>1</td>\n",
       "    </tr>\n",
       "    <tr>\n",
       "      <th>3</th>\n",
       "      <td>0</td>\n",
       "      <td>58</td>\n",
       "      <td>1</td>\n",
       "      <td>0</td>\n",
       "      <td>79</td>\n",
       "      <td>4</td>\n",
       "      <td>1</td>\n",
       "      <td>3</td>\n",
       "      <td>4</td>\n",
       "      <td>0</td>\n",
       "      <td>4</td>\n",
       "      <td>1</td>\n",
       "      <td>0</td>\n",
       "      <td>0</td>\n",
       "    </tr>\n",
       "    <tr>\n",
       "      <th>4</th>\n",
       "      <td>0</td>\n",
       "      <td>38</td>\n",
       "      <td>1</td>\n",
       "      <td>0</td>\n",
       "      <td>108</td>\n",
       "      <td>4</td>\n",
       "      <td>1</td>\n",
       "      <td>2</td>\n",
       "      <td>4</td>\n",
       "      <td>0</td>\n",
       "      <td>4</td>\n",
       "      <td>1</td>\n",
       "      <td>0</td>\n",
       "      <td>1</td>\n",
       "    </tr>\n",
       "  </tbody>\n",
       "</table>\n",
       "</div>"
      ],
      "text/plain": [
       "   gender_core  age_core  understand_contract  understand_contract.1  \\\n",
       "0            0        30                    1                      0   \n",
       "1            1        30                    1                      0   \n",
       "2            0        24                    1                      0   \n",
       "3            0        58                    1                      0   \n",
       "4            0        38                    1                      0   \n",
       "\n",
       "   total_tenure_months  workplace_satis_core  living_wage_tf_core  \\\n",
       "0                  132                     3                    0   \n",
       "1                  108                     3                    0   \n",
       "2                   67                     4                    1   \n",
       "3                   79                     4                    1   \n",
       "4                  108                     4                    1   \n",
       "\n",
       "   conditions_rate_core  safety_core  accident_last_year  \\\n",
       "0                     3            4                   0   \n",
       "1                     2            4                   0   \n",
       "2                     3            4                   0   \n",
       "3                     3            4                   0   \n",
       "4                     2            4                   0   \n",
       "\n",
       "   covid_safety_measures_core  return_next_season_core  pressure_to_work_core  \\\n",
       "0                           4                        1                      0   \n",
       "1                           4                        1                      0   \n",
       "2                           4                        1                      0   \n",
       "3                           4                        1                      0   \n",
       "4                           4                        1                      0   \n",
       "\n",
       "   factory_recommend_tf_core  \n",
       "0                          1  \n",
       "1                          1  \n",
       "2                          1  \n",
       "3                          0  \n",
       "4                          1  "
      ]
     },
     "execution_count": 10,
     "metadata": {},
     "output_type": "execute_result"
    }
   ],
   "source": [
    "df = pd.read_csv(Path('./Resources/ftusa_data_ml.csv'))\n",
    "df.head()"
   ]
  },
  {
   "cell_type": "code",
   "execution_count": 11,
   "id": "0bcbe731",
   "metadata": {},
   "outputs": [
    {
     "data": {
      "text/plain": [
       "gender_core                   3612\n",
       "age_core                      3612\n",
       "understand_contract           3612\n",
       "understand_contract.1         3612\n",
       "total_tenure_months           3612\n",
       "workplace_satis_core          3612\n",
       "living_wage_tf_core           3612\n",
       "conditions_rate_core          3612\n",
       "safety_core                   3612\n",
       "accident_last_year            3612\n",
       "covid_safety_measures_core    3612\n",
       "return_next_season_core       3612\n",
       "pressure_to_work_core         3612\n",
       "factory_recommend_tf_core     3612\n",
       "dtype: int64"
      ]
     },
     "execution_count": 11,
     "metadata": {},
     "output_type": "execute_result"
    }
   ],
   "source": [
    "df.count()"
   ]
  },
  {
   "cell_type": "code",
   "execution_count": 12,
   "id": "e8e1b602",
   "metadata": {},
   "outputs": [
    {
     "data": {
      "text/html": [
       "<div>\n",
       "<style scoped>\n",
       "    .dataframe tbody tr th:only-of-type {\n",
       "        vertical-align: middle;\n",
       "    }\n",
       "\n",
       "    .dataframe tbody tr th {\n",
       "        vertical-align: top;\n",
       "    }\n",
       "\n",
       "    .dataframe thead th {\n",
       "        text-align: right;\n",
       "    }\n",
       "</style>\n",
       "<table border=\"1\" class=\"dataframe\">\n",
       "  <thead>\n",
       "    <tr style=\"text-align: right;\">\n",
       "      <th></th>\n",
       "      <th>gender_core</th>\n",
       "      <th>age_core</th>\n",
       "      <th>understand_contract</th>\n",
       "      <th>understand_contract.1</th>\n",
       "      <th>total_tenure_months</th>\n",
       "      <th>workplace_satis_core</th>\n",
       "      <th>living_wage_tf_core</th>\n",
       "      <th>conditions_rate_core</th>\n",
       "      <th>safety_core</th>\n",
       "      <th>accident_last_year</th>\n",
       "      <th>covid_safety_measures_core</th>\n",
       "      <th>return_next_season_core</th>\n",
       "      <th>pressure_to_work_core</th>\n",
       "    </tr>\n",
       "  </thead>\n",
       "  <tbody>\n",
       "    <tr>\n",
       "      <th>0</th>\n",
       "      <td>0</td>\n",
       "      <td>30</td>\n",
       "      <td>1</td>\n",
       "      <td>0</td>\n",
       "      <td>132</td>\n",
       "      <td>3</td>\n",
       "      <td>0</td>\n",
       "      <td>3</td>\n",
       "      <td>4</td>\n",
       "      <td>0</td>\n",
       "      <td>4</td>\n",
       "      <td>1</td>\n",
       "      <td>0</td>\n",
       "    </tr>\n",
       "    <tr>\n",
       "      <th>1</th>\n",
       "      <td>1</td>\n",
       "      <td>30</td>\n",
       "      <td>1</td>\n",
       "      <td>0</td>\n",
       "      <td>108</td>\n",
       "      <td>3</td>\n",
       "      <td>0</td>\n",
       "      <td>2</td>\n",
       "      <td>4</td>\n",
       "      <td>0</td>\n",
       "      <td>4</td>\n",
       "      <td>1</td>\n",
       "      <td>0</td>\n",
       "    </tr>\n",
       "    <tr>\n",
       "      <th>2</th>\n",
       "      <td>0</td>\n",
       "      <td>24</td>\n",
       "      <td>1</td>\n",
       "      <td>0</td>\n",
       "      <td>67</td>\n",
       "      <td>4</td>\n",
       "      <td>1</td>\n",
       "      <td>3</td>\n",
       "      <td>4</td>\n",
       "      <td>0</td>\n",
       "      <td>4</td>\n",
       "      <td>1</td>\n",
       "      <td>0</td>\n",
       "    </tr>\n",
       "    <tr>\n",
       "      <th>3</th>\n",
       "      <td>0</td>\n",
       "      <td>58</td>\n",
       "      <td>1</td>\n",
       "      <td>0</td>\n",
       "      <td>79</td>\n",
       "      <td>4</td>\n",
       "      <td>1</td>\n",
       "      <td>3</td>\n",
       "      <td>4</td>\n",
       "      <td>0</td>\n",
       "      <td>4</td>\n",
       "      <td>1</td>\n",
       "      <td>0</td>\n",
       "    </tr>\n",
       "    <tr>\n",
       "      <th>4</th>\n",
       "      <td>0</td>\n",
       "      <td>38</td>\n",
       "      <td>1</td>\n",
       "      <td>0</td>\n",
       "      <td>108</td>\n",
       "      <td>4</td>\n",
       "      <td>1</td>\n",
       "      <td>2</td>\n",
       "      <td>4</td>\n",
       "      <td>0</td>\n",
       "      <td>4</td>\n",
       "      <td>1</td>\n",
       "      <td>0</td>\n",
       "    </tr>\n",
       "  </tbody>\n",
       "</table>\n",
       "</div>"
      ],
      "text/plain": [
       "   gender_core  age_core  understand_contract  understand_contract.1  \\\n",
       "0            0        30                    1                      0   \n",
       "1            1        30                    1                      0   \n",
       "2            0        24                    1                      0   \n",
       "3            0        58                    1                      0   \n",
       "4            0        38                    1                      0   \n",
       "\n",
       "   total_tenure_months  workplace_satis_core  living_wage_tf_core  \\\n",
       "0                  132                     3                    0   \n",
       "1                  108                     3                    0   \n",
       "2                   67                     4                    1   \n",
       "3                   79                     4                    1   \n",
       "4                  108                     4                    1   \n",
       "\n",
       "   conditions_rate_core  safety_core  accident_last_year  \\\n",
       "0                     3            4                   0   \n",
       "1                     2            4                   0   \n",
       "2                     3            4                   0   \n",
       "3                     3            4                   0   \n",
       "4                     2            4                   0   \n",
       "\n",
       "   covid_safety_measures_core  return_next_season_core  pressure_to_work_core  \n",
       "0                           4                        1                      0  \n",
       "1                           4                        1                      0  \n",
       "2                           4                        1                      0  \n",
       "3                           4                        1                      0  \n",
       "4                           4                        1                      0  "
      ]
     },
     "execution_count": 12,
     "metadata": {},
     "output_type": "execute_result"
    }
   ],
   "source": [
    "# Define the features set.\n",
    "X = df.copy()\n",
    "X = X.drop(\"factory_recommend_tf_core\", axis=1)\n",
    "X.head()"
   ]
  },
  {
   "cell_type": "code",
   "execution_count": 13,
   "id": "188e1d4f",
   "metadata": {},
   "outputs": [
    {
     "data": {
      "text/plain": [
       "array([1, 1, 1, 0, 1])"
      ]
     },
     "execution_count": 13,
     "metadata": {},
     "output_type": "execute_result"
    }
   ],
   "source": [
    "# Define the target set.\n",
    "y = df[\"factory_recommend_tf_core\"].ravel()\n",
    "y[:5]"
   ]
  },
  {
   "cell_type": "code",
   "execution_count": 14,
   "id": "490581c0",
   "metadata": {},
   "outputs": [],
   "source": [
    "# Splitting into Train and Test sets.\n",
    "X_train, X_test, y_train, y_test = train_test_split(X, y, random_state=78)\n"
   ]
  },
  {
   "cell_type": "code",
   "execution_count": 15,
   "id": "25cc781e",
   "metadata": {},
   "outputs": [],
   "source": [
    "# Creating a StandardScaler instance.\n",
    "scaler = StandardScaler()\n",
    "# Fitting the Standard Scaler with the training data.\n",
    "X_scaler = scaler.fit(X_train)\n",
    "\n",
    "# Scaling the data.\n",
    "X_train_scaled = X_scaler.transform(X_train)\n",
    "X_test_scaled = X_scaler.transform(X_test)"
   ]
  },
  {
   "cell_type": "code",
   "execution_count": 16,
   "id": "c1810f8b",
   "metadata": {},
   "outputs": [],
   "source": [
    "# Create a random forest classifier.\n",
    "rf_model = RandomForestClassifier(n_estimators=128, random_state=78) "
   ]
  },
  {
   "cell_type": "code",
   "execution_count": 17,
   "id": "1270b8c8",
   "metadata": {},
   "outputs": [],
   "source": [
    "# Fitting the model\n",
    "rf_model = rf_model.fit(X_train_scaled, y_train)"
   ]
  },
  {
   "cell_type": "code",
   "execution_count": 18,
   "id": "c45325a1",
   "metadata": {},
   "outputs": [],
   "source": [
    "# Making predictions using the testing data.\n",
    "predictions = rf_model.predict(X_test_scaled)"
   ]
  },
  {
   "cell_type": "code",
   "execution_count": 19,
   "id": "8d092f32",
   "metadata": {},
   "outputs": [
    {
     "data": {
      "text/plain": [
       "array([1, 2, 2, 1, 2, 2, 2, 2, 2, 2, 1, 1, 2, 2, 2, 2, 1, 1, 2, 1, 2, 1,\n",
       "       2, 2, 2, 2, 2, 2, 2, 1, 2, 2, 2, 2, 2, 0, 2, 1, 2, 2, 1, 2, 1, 1,\n",
       "       1, 2, 2, 1, 1, 2, 2, 2, 2, 2, 2, 2, 1, 2, 2, 2, 2, 1, 2, 1, 2, 0,\n",
       "       2, 2, 2, 2, 2, 1, 0, 2, 2, 2, 2, 2, 1, 1, 2, 2, 2, 2, 2, 2, 0, 2,\n",
       "       2, 2, 1, 2, 1, 2, 2, 1, 2, 2, 2, 2, 1, 2, 0, 2, 1, 2, 2, 2, 2, 2,\n",
       "       1, 1, 1, 1, 2, 2, 2, 1, 2, 1, 2, 0, 0, 2, 2, 1, 2, 2, 1, 1, 1, 2,\n",
       "       2, 2, 2, 2, 1, 2, 2, 0, 2, 2, 2, 2, 2, 2, 2, 0, 2, 1, 2, 0, 2, 2,\n",
       "       2, 0, 1, 2, 1, 2, 2, 2, 2, 1, 1, 2, 2, 1, 2, 2, 0, 2, 2, 1, 2, 2,\n",
       "       2, 2, 2, 2, 2, 2, 2, 2, 2, 2, 1, 2, 2, 2, 1, 2, 2, 2, 1, 1, 1, 2,\n",
       "       2, 2, 2, 1, 2, 2, 2, 2, 1, 1, 1, 2, 1, 1, 2, 1, 2, 1, 2, 1, 2, 2,\n",
       "       2, 2, 2, 2, 1, 2, 2, 2, 0, 1, 2, 2, 2, 2, 2, 1, 2, 2, 1, 2, 2, 2,\n",
       "       1, 2, 1, 2, 2, 1, 2, 2, 2, 2, 2, 2, 2, 2, 2, 2, 2, 2, 1, 2, 2, 2,\n",
       "       0, 2, 1, 1, 2, 2, 2, 2, 0, 2, 2, 2, 2, 0, 2, 2, 2, 0, 2, 2, 1, 1,\n",
       "       2, 2, 2, 2, 2, 2, 2, 2, 2, 1, 2, 2, 1, 1, 2, 2, 2, 2, 1, 2, 1, 2,\n",
       "       2, 2, 2, 0, 1, 2, 2, 1, 2, 2, 2, 2, 2, 2, 0, 0, 2, 2, 2, 2, 2, 2,\n",
       "       1, 2, 2, 2, 1, 1, 2, 2, 2, 2, 2, 2, 2, 1, 2, 1, 2, 2, 1, 2, 0, 2,\n",
       "       2, 2, 2, 1, 1, 2, 2, 2, 2, 0, 2, 2, 0, 2, 2, 2, 1, 2, 2, 2, 1, 1,\n",
       "       1, 2, 2, 1, 2, 1, 1, 1, 2, 1, 2, 2, 1, 1, 2, 2, 0, 1, 1, 2, 2, 2,\n",
       "       2, 2, 2, 1, 2, 2, 0, 2, 2, 1, 2, 2, 2, 1, 2, 0, 0, 2, 1, 2, 2, 2,\n",
       "       1, 2, 2, 2, 0, 2, 2, 2, 2, 0, 2, 2, 2, 2, 2, 2, 1, 2, 2, 2, 0, 2,\n",
       "       2, 2, 2, 1, 1, 1, 2, 1, 2, 2, 2, 1, 2, 2, 2, 2, 2, 2, 2, 1, 2, 2,\n",
       "       2, 2, 1, 2, 2, 1, 2, 1, 2, 2, 1, 2, 2, 2, 1, 2, 2, 2, 2, 2, 1, 2,\n",
       "       2, 2, 2, 2, 1, 1, 2, 0, 2, 2, 2, 2, 2, 1, 1, 2, 2, 0, 0, 1, 2, 0,\n",
       "       2, 2, 2, 1, 0, 1, 2, 0, 2, 2, 2, 2, 2, 2, 2, 2, 2, 2, 2, 1, 1, 2,\n",
       "       2, 2, 2, 2, 2, 2, 2, 2, 1, 2, 2, 1, 2, 2, 2, 1, 2, 2, 2, 0, 2, 2,\n",
       "       2, 0, 2, 2, 2, 1, 2, 2, 2, 0, 2, 2, 1, 2, 2, 1, 2, 2, 1, 1, 2, 2,\n",
       "       1, 1, 1, 1, 0, 2, 2, 1, 0, 2, 1, 2, 1, 2, 1, 1, 2, 2, 2, 2, 2, 2,\n",
       "       2, 1, 1, 1, 1, 2, 2, 1, 2, 2, 2, 2, 1, 1, 2, 2, 2, 2, 1, 2, 2, 2,\n",
       "       2, 0, 1, 1, 2, 2, 2, 2, 1, 2, 2, 1, 2, 1, 2, 2, 1, 2, 2, 2, 2, 2,\n",
       "       2, 2, 2, 2, 2, 2, 2, 1, 2, 2, 2, 1, 2, 2, 2, 0, 2, 2, 2, 2, 2, 2,\n",
       "       2, 2, 2, 2, 2, 2, 2, 2, 2, 0, 2, 2, 2, 2, 1, 2, 1, 2, 2, 2, 2, 2,\n",
       "       2, 1, 2, 2, 2, 2, 1, 2, 2, 1, 2, 2, 2, 2, 0, 1, 2, 2, 2, 2, 2, 2,\n",
       "       2, 2, 2, 2, 0, 2, 2, 2, 2, 1, 2, 2, 2, 2, 2, 2, 2, 1, 1, 1, 2, 2,\n",
       "       0, 1, 1, 2, 2, 1, 2, 2, 2, 2, 1, 2, 1, 2, 2, 0, 1, 2, 2, 2, 2, 2,\n",
       "       0, 2, 1, 2, 2, 1, 1, 2, 1, 2, 2, 1, 2, 1, 2, 1, 2, 1, 1, 2, 2, 2,\n",
       "       2, 1, 2, 2, 2, 2, 2, 2, 1, 2, 2, 2, 2, 2, 2, 2, 1, 2, 2, 1, 0, 1,\n",
       "       2, 1, 2, 2, 1, 2, 1, 2, 2, 2, 1, 2, 2, 1, 0, 2, 1, 2, 2, 2, 2, 2,\n",
       "       2, 2, 1, 2, 2, 2, 2, 2, 1, 2, 2, 2, 2, 1, 1, 1, 0, 2, 2, 2, 2, 1,\n",
       "       2, 1, 1, 0, 2, 2, 2, 0, 2, 1, 2, 1, 2, 2, 1, 1, 2, 1, 2, 0, 2, 2,\n",
       "       2, 2, 2, 2, 1, 2, 2, 2, 2, 2, 1, 1, 1, 2, 2, 1, 2, 2, 2, 2, 2, 1,\n",
       "       2, 2, 2, 1, 1, 2, 2, 1, 2, 2, 1, 2, 2, 0, 1, 1, 2, 1, 1, 2, 2, 1,\n",
       "       1])"
      ]
     },
     "execution_count": 19,
     "metadata": {},
     "output_type": "execute_result"
    }
   ],
   "source": [
    "predictions"
   ]
  },
  {
   "cell_type": "code",
   "execution_count": 25,
   "id": "6abac520",
   "metadata": {},
   "outputs": [
    {
     "data": {
      "text/html": [
       "<div>\n",
       "<style scoped>\n",
       "    .dataframe tbody tr th:only-of-type {\n",
       "        vertical-align: middle;\n",
       "    }\n",
       "\n",
       "    .dataframe tbody tr th {\n",
       "        vertical-align: top;\n",
       "    }\n",
       "\n",
       "    .dataframe thead th {\n",
       "        text-align: right;\n",
       "    }\n",
       "</style>\n",
       "<table border=\"1\" class=\"dataframe\">\n",
       "  <thead>\n",
       "    <tr style=\"text-align: right;\">\n",
       "      <th></th>\n",
       "      <th>Predicted Demoter</th>\n",
       "      <th>Predicted Neutral</th>\n",
       "      <th>Predicted Promoter</th>\n",
       "    </tr>\n",
       "  </thead>\n",
       "  <tbody>\n",
       "    <tr>\n",
       "      <th>Actual Demoter</th>\n",
       "      <td>27</td>\n",
       "      <td>40</td>\n",
       "      <td>31</td>\n",
       "    </tr>\n",
       "    <tr>\n",
       "      <th>Actual Neutral</th>\n",
       "      <td>18</td>\n",
       "      <td>87</td>\n",
       "      <td>140</td>\n",
       "    </tr>\n",
       "    <tr>\n",
       "      <th>Actual Promoter</th>\n",
       "      <td>11</td>\n",
       "      <td>97</td>\n",
       "      <td>452</td>\n",
       "    </tr>\n",
       "  </tbody>\n",
       "</table>\n",
       "</div>"
      ],
      "text/plain": [
       "                 Predicted Demoter  Predicted Neutral  Predicted Promoter\n",
       "Actual Demoter                  27                 40                  31\n",
       "Actual Neutral                  18                 87                 140\n",
       "Actual Promoter                 11                 97                 452"
      ]
     },
     "execution_count": 25,
     "metadata": {},
     "output_type": "execute_result"
    }
   ],
   "source": [
    "# Calculating the confusion matrix.\n",
    "cm = confusion_matrix(y_test, predictions)\n",
    "\n",
    "# Create a DataFrame from the confusion matrix.\n",
    "cm_df = pd.DataFrame(\n",
    "    cm, index=[\"Actual Demoter\", \"Actual Neutral\", \"Actual Promoter\"], columns=[\"Predicted Demoter\", \"Predicted Neutral\",\"Predicted Promoter\"])\n",
    "\n",
    "cm_df"
   ]
  },
  {
   "cell_type": "code",
   "execution_count": 26,
   "id": "626b8a08",
   "metadata": {},
   "outputs": [],
   "source": [
    "# Calculating the accuracy score.\n",
    "acc_score = accuracy_score(y_test, predictions)\n"
   ]
  },
  {
   "cell_type": "code",
   "execution_count": 27,
   "id": "325e07bb",
   "metadata": {},
   "outputs": [
    {
     "name": "stdout",
     "output_type": "stream",
     "text": [
      "Confusion Matrix\n"
     ]
    },
    {
     "data": {
      "text/html": [
       "<div>\n",
       "<style scoped>\n",
       "    .dataframe tbody tr th:only-of-type {\n",
       "        vertical-align: middle;\n",
       "    }\n",
       "\n",
       "    .dataframe tbody tr th {\n",
       "        vertical-align: top;\n",
       "    }\n",
       "\n",
       "    .dataframe thead th {\n",
       "        text-align: right;\n",
       "    }\n",
       "</style>\n",
       "<table border=\"1\" class=\"dataframe\">\n",
       "  <thead>\n",
       "    <tr style=\"text-align: right;\">\n",
       "      <th></th>\n",
       "      <th>Predicted Demoter</th>\n",
       "      <th>Predicted Neutral</th>\n",
       "      <th>Predicted Promoter</th>\n",
       "    </tr>\n",
       "  </thead>\n",
       "  <tbody>\n",
       "    <tr>\n",
       "      <th>Actual Demoter</th>\n",
       "      <td>27</td>\n",
       "      <td>40</td>\n",
       "      <td>31</td>\n",
       "    </tr>\n",
       "    <tr>\n",
       "      <th>Actual Neutral</th>\n",
       "      <td>18</td>\n",
       "      <td>87</td>\n",
       "      <td>140</td>\n",
       "    </tr>\n",
       "    <tr>\n",
       "      <th>Actual Promoter</th>\n",
       "      <td>11</td>\n",
       "      <td>97</td>\n",
       "      <td>452</td>\n",
       "    </tr>\n",
       "  </tbody>\n",
       "</table>\n",
       "</div>"
      ],
      "text/plain": [
       "                 Predicted Demoter  Predicted Neutral  Predicted Promoter\n",
       "Actual Demoter                  27                 40                  31\n",
       "Actual Neutral                  18                 87                 140\n",
       "Actual Promoter                 11                 97                 452"
      ]
     },
     "metadata": {},
     "output_type": "display_data"
    },
    {
     "name": "stdout",
     "output_type": "stream",
     "text": [
      "Accuracy Score : 0.6267995570321152\n",
      "Classification Report\n",
      "              precision    recall  f1-score   support\n",
      "\n",
      "           0       0.48      0.28      0.35        98\n",
      "           1       0.39      0.36      0.37       245\n",
      "           2       0.73      0.81      0.76       560\n",
      "\n",
      "    accuracy                           0.63       903\n",
      "   macro avg       0.53      0.48      0.50       903\n",
      "weighted avg       0.61      0.63      0.61       903\n",
      "\n"
     ]
    }
   ],
   "source": [
    "# Displaying results\n",
    "print(\"Confusion Matrix\")\n",
    "display(cm_df)\n",
    "print(f\"Accuracy Score : {acc_score}\")\n",
    "print(\"Classification Report\")\n",
    "print(classification_report(y_test, predictions))\n"
   ]
  },
  {
   "cell_type": "code",
   "execution_count": 28,
   "id": "76886705",
   "metadata": {},
   "outputs": [
    {
     "data": {
      "text/plain": [
       "array([0.03946073, 0.24774882, 0.01180007, 0.01207199, 0.24386261,\n",
       "       0.07318193, 0.03518376, 0.09129115, 0.06049912, 0.02011921,\n",
       "       0.0827321 , 0.0165372 , 0.06551131])"
      ]
     },
     "execution_count": 28,
     "metadata": {},
     "output_type": "execute_result"
    }
   ],
   "source": [
    "# Calculate feature importance in the Random Forest model.\n",
    "importances = rf_model.feature_importances_\n",
    "importances"
   ]
  },
  {
   "cell_type": "code",
   "execution_count": 29,
   "id": "e848d278",
   "metadata": {},
   "outputs": [
    {
     "data": {
      "text/plain": [
       "[(0.2477488193622353, 'age_core'),\n",
       " (0.24386261437789597, 'total_tenure_months'),\n",
       " (0.09129115042222219, 'conditions_rate_core'),\n",
       " (0.08273210077421381, 'covid_safety_measures_core'),\n",
       " (0.07318192656330712, 'workplace_satis_core'),\n",
       " (0.06551131104556596, 'pressure_to_work_core'),\n",
       " (0.06049911685582883, 'safety_core'),\n",
       " (0.039460734758302154, 'gender_core'),\n",
       " (0.03518375856091194, 'living_wage_tf_core'),\n",
       " (0.02011921464085408, 'accident_last_year'),\n",
       " (0.016537195730693115, 'return_next_season_core'),\n",
       " (0.012071985391112188, 'understand_contract.1'),\n",
       " (0.011800071516857231, 'understand_contract')]"
      ]
     },
     "execution_count": 29,
     "metadata": {},
     "output_type": "execute_result"
    }
   ],
   "source": [
    "# We can sort the features by their importance.\n",
    "sorted(zip(rf_model.feature_importances_, X.columns), reverse=True)\n"
   ]
  },
  {
   "cell_type": "code",
   "execution_count": null,
   "id": "ed0ff830",
   "metadata": {},
   "outputs": [],
   "source": []
  }
 ],
 "metadata": {
  "kernelspec": {
   "display_name": "myenviro",
   "language": "python",
   "name": "myenviro"
  },
  "language_info": {
   "codemirror_mode": {
    "name": "ipython",
    "version": 3
   },
   "file_extension": ".py",
   "mimetype": "text/x-python",
   "name": "python",
   "nbconvert_exporter": "python",
   "pygments_lexer": "ipython3",
   "version": "3.9.7"
  }
 },
 "nbformat": 4,
 "nbformat_minor": 5
}
